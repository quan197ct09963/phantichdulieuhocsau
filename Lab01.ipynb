{
  "nbformat": 4,
  "nbformat_minor": 0,
  "metadata": {
    "colab": {
      "name": "Lab01.ipynb",
      "provenance": [],
      "authorship_tag": "ABX9TyOIANc4rb+sPfH61CUieJJL",
      "include_colab_link": true
    },
    "kernelspec": {
      "name": "python3",
      "display_name": "Python 3"
    },
    "language_info": {
      "name": "python"
    }
  },
  "cells": [
    {
      "cell_type": "markdown",
      "metadata": {
        "id": "view-in-github",
        "colab_type": "text"
      },
      "source": [
        "<a href=\"https://colab.research.google.com/github/quan197ct09963/phantichdulieuhocsau/blob/main/Lab01.ipynb\" target=\"_parent\"><img src=\"https://colab.research.google.com/assets/colab-badge.svg\" alt=\"Open In Colab\"/></a>"
      ]
    },
    {
      "cell_type": "code",
      "execution_count": null,
      "metadata": {
        "colab": {
          "base_uri": "https://localhost:8080/"
        },
        "id": "Nx0RJ7pn3WHw",
        "outputId": "3cd4b7ea-72cf-4aed-ec95-cbab6eb0539d"
      },
      "outputs": [
        {
          "output_type": "stream",
          "name": "stdout",
          "text": [
            "hello word\n"
          ]
        }
      ],
      "source": [
        "print(\"hello word\")"
      ]
    },
    {
      "cell_type": "code",
      "source": [
        "print(\"Chào bạn\")"
      ],
      "metadata": {
        "colab": {
          "base_uri": "https://localhost:8080/"
        },
        "id": "86Kgp5sc6I0z",
        "outputId": "a0380eb4-73cf-4201-94d8-7f18a86105f5"
      },
      "execution_count": 2,
      "outputs": [
        {
          "output_type": "stream",
          "name": "stdout",
          "text": [
            "Chào bạn\n"
          ]
        }
      ]
    }
  ]
}